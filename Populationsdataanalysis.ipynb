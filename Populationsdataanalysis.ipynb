{
 "cells": [
  {
   "cell_type": "code",
   "execution_count": 1,
   "id": "a1dcf50a-2e6b-4dbc-a45f-a963322cf7ab",
   "metadata": {},
   "outputs": [
    {
     "name": "stdout",
     "output_type": "stream",
     "text": [
      "Requirement already satisfied: pyspark in /usr/local/spark/python (3.5.0)\n",
      "Requirement already satisfied: py4j==0.10.9.7 in /opt/conda/lib/python3.11/site-packages (from pyspark) (0.10.9.7)\n",
      "Note: you may need to restart the kernel to use updated packages.\n"
     ]
    }
   ],
   "source": [
    "pip install pyspark"
   ]
  },
  {
   "cell_type": "code",
   "execution_count": 2,
   "id": "3ef1baf0-065a-4dc8-a4b5-947d9662bc29",
   "metadata": {},
   "outputs": [],
   "source": [
    "from pyspark.context import SparkContext\n",
    "from pyspark.sql.session import SparkSession\n",
    "sc = SparkContext('local')\n",
    "spark = SparkSession(sc)\n"
   ]
  },
  {
   "cell_type": "code",
   "execution_count": 3,
   "id": "cb3b2afa-1259-433c-9229-1a08e2a5caa3",
   "metadata": {},
   "outputs": [],
   "source": [
    "from pyspark.sql.functions import col\n",
    "from pyspark.sql.functions import *"
   ]
  },
  {
   "cell_type": "code",
   "execution_count": 23,
   "id": "3958ce37-a4ed-440e-bfd8-ac9959c136d5",
   "metadata": {},
   "outputs": [],
   "source": [
    "df = spark.read.format(\"csv\")\\\n",
    "    .option(\"header\", \"true\")\\\n",
    "    .option(\"inferSchema\", \"true\")\\\n",
    "    .load(\"work/files/data/population-data/world_population.csv\")"
   ]
  },
  {
   "cell_type": "code",
   "execution_count": 41,
   "id": "701d543e-7827-44d6-8356-92300e4c32ba",
   "metadata": {},
   "outputs": [
    {
     "name": "stdout",
     "output_type": "stream",
     "text": [
      "+----+----+-----------------+----------------+---------+---------------+---------------+---------------+---------------+---------------+---------------+---------------+---------------+----------+-----------------+-----------+---------------------------+\n",
      "|Rank|CCA3|Country/Territory|         Capital|Continent|2022 Population|2020 Population|2015 Population|2010 Population|2000 Population|1990 Population|1980 Population|1970 Population|Area (km²)|Density (per km²)|Growth Rate|World Population Percentage|\n",
      "+----+----+-----------------+----------------+---------+---------------+---------------+---------------+---------------+---------------+---------------+---------------+---------------+----------+-----------------+-----------+---------------------------+\n",
      "|  36| AFG|      Afghanistan|           Kabul|     Asia|       41128771|       38972230|       33753499|       28189672|       19542982|       10694796|       12486631|       10752971|    652230|          63.0587|     1.0257|                       0.52|\n",
      "| 138| ALB|          Albania|          Tirana|   Europe|        2842321|        2866849|        2882481|        2913399|        3182021|        3295066|        2941651|        2324731|     28748|          98.8702|     0.9957|                       0.04|\n",
      "|  34| DZA|          Algeria|         Algiers|   Africa|       44903225|       43451666|       39543154|       35856344|       30774621|       25518074|       18739378|       13795915|   2381741|          18.8531|     1.0164|                       0.56|\n",
      "| 213| ASM|   American Samoa|       Pago Pago|  Oceania|          44273|          46189|          51368|          54849|          58230|          47818|          32886|          27075|       199|         222.4774|     0.9831|                        0.0|\n",
      "| 203| AND|          Andorra|Andorra la Vella|   Europe|          79824|          77700|          71746|          71519|          66097|          53569|          35611|          19860|       468|         170.5641|       1.01|                        0.0|\n",
      "+----+----+-----------------+----------------+---------+---------------+---------------+---------------+---------------+---------------+---------------+---------------+---------------+----------+-----------------+-----------+---------------------------+\n",
      "only showing top 5 rows\n",
      "\n"
     ]
    }
   ],
   "source": [
    "df.show(5)"
   ]
  },
  {
   "cell_type": "code",
   "execution_count": 24,
   "id": "f71266eb-5182-4dd1-a002-42f2c03bbdcd",
   "metadata": {},
   "outputs": [
    {
     "name": "stdout",
     "output_type": "stream",
     "text": [
      "root\n",
      " |-- Rank: integer (nullable = true)\n",
      " |-- CCA3: string (nullable = true)\n",
      " |-- Country/Territory: string (nullable = true)\n",
      " |-- Capital: string (nullable = true)\n",
      " |-- Continent: string (nullable = true)\n",
      " |-- 2022 Population: integer (nullable = true)\n",
      " |-- 2020 Population: integer (nullable = true)\n",
      " |-- 2015 Population: integer (nullable = true)\n",
      " |-- 2010 Population: integer (nullable = true)\n",
      " |-- 2000 Population: integer (nullable = true)\n",
      " |-- 1990 Population: integer (nullable = true)\n",
      " |-- 1980 Population: integer (nullable = true)\n",
      " |-- 1970 Population: integer (nullable = true)\n",
      " |-- Area (km²): integer (nullable = true)\n",
      " |-- Density (per km²): double (nullable = true)\n",
      " |-- Growth Rate: double (nullable = true)\n",
      " |-- World Population Percentage: double (nullable = true)\n",
      "\n"
     ]
    }
   ],
   "source": [
    "df.printSchema()"
   ]
  },
  {
   "cell_type": "code",
   "execution_count": 25,
   "id": "fa70b795-2a6f-4690-a93b-be0d66ad36e8",
   "metadata": {},
   "outputs": [
    {
     "data": {
      "text/plain": [
       "234"
      ]
     },
     "execution_count": 25,
     "metadata": {},
     "output_type": "execute_result"
    }
   ],
   "source": [
    "df.count()"
   ]
  },
  {
   "cell_type": "code",
   "execution_count": 27,
   "id": "5f1e53cf-8a38-4666-beac-569c6497a611",
   "metadata": {},
   "outputs": [
    {
     "name": "stdout",
     "output_type": "stream",
     "text": [
      "+---------------+\n",
      "|2015 Population|\n",
      "+---------------+\n",
      "|       33753499|\n",
      "|        2882481|\n",
      "|       39543154|\n",
      "|          51368|\n",
      "|          71746|\n",
      "+---------------+\n",
      "only showing top 5 rows\n",
      "\n"
     ]
    }
   ],
   "source": [
    "df.select(\"2015 Population\").show(5)"
   ]
  },
  {
   "cell_type": "code",
   "execution_count": 28,
   "id": "80b9d63d-189a-44fa-96fc-502a9f4a1563",
   "metadata": {},
   "outputs": [
    {
     "name": "stdout",
     "output_type": "stream",
     "text": [
      "+----+\n",
      "|Rank|\n",
      "+----+\n",
      "|  36|\n",
      "| 138|\n",
      "|  34|\n",
      "| 213|\n",
      "| 203|\n",
      "+----+\n",
      "only showing top 5 rows\n",
      "\n"
     ]
    }
   ],
   "source": [
    "df.select(\"Rank\").show(5)"
   ]
  },
  {
   "cell_type": "code",
   "execution_count": 29,
   "id": "7b999182-3c71-4833-97cb-7e38abe6b119",
   "metadata": {},
   "outputs": [
    {
     "name": "stdout",
     "output_type": "stream",
     "text": [
      "+---------+\n",
      "|max(Rank)|\n",
      "+---------+\n",
      "|      234|\n",
      "+---------+\n",
      "\n"
     ]
    }
   ],
   "source": [
    "df.select(max(col(\"Rank\"))).show(5)"
   ]
  },
  {
   "cell_type": "code",
   "execution_count": 30,
   "id": "2041d857-2ba0-499e-b611-f4dfa1c51d61",
   "metadata": {},
   "outputs": [
    {
     "name": "stdout",
     "output_type": "stream",
     "text": [
      "+---------+\n",
      "|min(Rank)|\n",
      "+---------+\n",
      "|        1|\n",
      "+---------+\n",
      "\n"
     ]
    }
   ],
   "source": [
    "df.select(min(col(\"Rank\"))).show(5)"
   ]
  },
  {
   "cell_type": "code",
   "execution_count": 31,
   "id": "16853d72-54e2-4805-89b5-8692d1e6516f",
   "metadata": {},
   "outputs": [
    {
     "name": "stdout",
     "output_type": "stream",
     "text": [
      "+----+----+-----------------+----------+-------------+---------------+---------------+---------------+---------------+---------------+---------------+---------------+---------------+----------+-----------------+-----------+---------------------------+\n",
      "|Rank|CCA3|Country/Territory|   Capital|    Continent|2022 Population|2020 Population|2015 Population|2010 Population|2000 Population|1990 Population|1980 Population|1970 Population|Area (km²)|Density (per km²)|Growth Rate|World Population Percentage|\n",
      "+----+----+-----------------+----------+-------------+---------------+---------------+---------------+---------------+---------------+---------------+---------------+---------------+----------+-----------------+-----------+---------------------------+\n",
      "| 198| ABW|            Aruba|Oranjestad|North America|         106445|         106585|         104257|         100341|          89101|          65712|          62267|          59106|       180|         591.3611|     0.9991|                        0.0|\n",
      "+----+----+-----------------+----------+-------------+---------------+---------------+---------------+---------------+---------------+---------------+---------------+---------------+----------+-----------------+-----------+---------------------------+\n",
      "\n"
     ]
    }
   ],
   "source": [
    "\n",
    "df.where(\"Rank = 198\").show()"
   ]
  },
  {
   "cell_type": "code",
   "execution_count": 33,
   "id": "926a314f-f64a-406a-b019-e19b0c4ea24b",
   "metadata": {},
   "outputs": [
    {
     "name": "stdout",
     "output_type": "stream",
     "text": [
      "+----+----+-----------------+-------+---------+---------------+---------------+---------------+---------------+---------------+---------------+---------------+---------------+----------+-----------------+-----------+---------------------------+\n",
      "|Rank|CCA3|Country/Territory|Capital|Continent|2022 Population|2020 Population|2015 Population|2010 Population|2000 Population|1990 Population|1980 Population|1970 Population|Area (km²)|Density (per km²)|Growth Rate|World Population Percentage|\n",
      "+----+----+-----------------+-------+---------+---------------+---------------+---------------+---------------+---------------+---------------+---------------+---------------+----------+-----------------+-----------+---------------------------+\n",
      "|   1| CHN|            China|Beijing|     Asia|     1425887337|     1424929781|     1393715448|     1348191368|     1264099069|     1153704252|      982372466|      822534450|   9706961|         146.8933|        1.0|                      17.88|\n",
      "+----+----+-----------------+-------+---------+---------------+---------------+---------------+---------------+---------------+---------------+---------------+---------------+----------+-----------------+-----------+---------------------------+\n",
      "\n"
     ]
    }
   ],
   "source": [
    "df.where(\"Rank = 1\").show()"
   ]
  },
  {
   "cell_type": "code",
   "execution_count": 34,
   "id": "d24954a0-2c60-4560-8eeb-e20b186ab9b1",
   "metadata": {},
   "outputs": [
    {
     "name": "stdout",
     "output_type": "stream",
     "text": [
      "+----+----+-------------------+----------------+-------------+---------------+---------------+---------------+---------------+---------------+---------------+---------------+---------------+----------+-----------------+-----------+---------------------------+\n",
      "|Rank|CCA3|  Country/Territory|         Capital|    Continent|2022 Population|2020 Population|2015 Population|2010 Population|2000 Population|1990 Population|1980 Population|1970 Population|Area (km²)|Density (per km²)|Growth Rate|World Population Percentage|\n",
      "+----+----+-------------------+----------------+-------------+---------------+---------------+---------------+---------------+---------------+---------------+---------------+---------------+----------+-----------------+-----------+---------------------------+\n",
      "| 138| ALB|            Albania|          Tirana|       Europe|        2842321|        2866849|        2882481|        2913399|        3182021|        3295066|        2941651|        2324731|     28748|          98.8702|     0.9957|                       0.04|\n",
      "| 213| ASM|     American Samoa|       Pago Pago|      Oceania|          44273|          46189|          51368|          54849|          58230|          47818|          32886|          27075|       199|         222.4774|     0.9831|                        0.0|\n",
      "| 203| AND|            Andorra|Andorra la Vella|       Europe|          79824|          77700|          71746|          71519|          66097|          53569|          35611|          19860|       468|         170.5641|       1.01|                        0.0|\n",
      "| 224| AIA|           Anguilla|      The Valley|North America|          15857|          15585|          14525|          13172|          11047|           8316|           6560|           6283|        91|         174.2527|     1.0066|                        0.0|\n",
      "| 201| ATG|Antigua and Barbuda|    Saint John’s|North America|          93763|          92664|          89941|          85695|          75055|          63328|          64888|          64516|       442|         212.1335|     1.0058|                        0.0|\n",
      "+----+----+-------------------+----------------+-------------+---------------+---------------+---------------+---------------+---------------+---------------+---------------+---------------+----------+-----------------+-----------+---------------------------+\n",
      "only showing top 5 rows\n",
      "\n"
     ]
    }
   ],
   "source": [
    "df.where(\"Rank > 100\").show(5)"
   ]
  },
  {
   "cell_type": "code",
   "execution_count": 35,
   "id": "c8721c84-7134-4c62-8dd0-dc1264a347fc",
   "metadata": {},
   "outputs": [
    {
     "name": "stdout",
     "output_type": "stream",
     "text": [
      "+----+----+-----------------+------------+-------------+---------------+---------------+---------------+---------------+---------------+---------------+---------------+---------------+----------+-----------------+-----------+---------------------------+\n",
      "|Rank|CCA3|Country/Territory|     Capital|    Continent|2022 Population|2020 Population|2015 Population|2010 Population|2000 Population|1990 Population|1980 Population|1970 Population|Area (km²)|Density (per km²)|Growth Rate|World Population Percentage|\n",
      "+----+----+-----------------+------------+-------------+---------------+---------------+---------------+---------------+---------------+---------------+---------------+---------------+----------+-----------------+-----------+---------------------------+\n",
      "|  36| AFG|      Afghanistan|       Kabul|         Asia|       41128771|       38972230|       33753499|       28189672|       19542982|       10694796|       12486631|       10752971|    652230|          63.0587|     1.0257|                       0.52|\n",
      "|  34| DZA|          Algeria|     Algiers|       Africa|       44903225|       43451666|       39543154|       35856344|       30774621|       25518074|       18739378|       13795915|   2381741|          18.8531|     1.0164|                       0.56|\n",
      "|  42| AGO|           Angola|      Luanda|       Africa|       35588987|       33428485|       28127721|       23364185|       16394062|       11828638|        8330047|        6029700|   1246700|          28.5466|     1.0315|                       0.45|\n",
      "|  33| ARG|        Argentina|Buenos Aires|South America|       45510318|       45036032|       43257065|       41100123|       37070774|       32637657|       28024803|       23842803|   2780400|          16.3683|     1.0052|                       0.57|\n",
      "|  55| AUS|        Australia|    Canberra|      Oceania|       26177413|       25670051|       23820236|       22019168|       19017963|       17048003|       14706322|       12595034|   7692024|           3.4032|     1.0099|                       0.33|\n",
      "+----+----+-----------------+------------+-------------+---------------+---------------+---------------+---------------+---------------+---------------+---------------+---------------+----------+-----------------+-----------+---------------------------+\n",
      "only showing top 5 rows\n",
      "\n"
     ]
    }
   ],
   "source": [
    "df.where(\"Rank < 100\").show(5)"
   ]
  },
  {
   "cell_type": "code",
   "execution_count": 36,
   "id": "04d125bd-bd64-4757-8a78-b17e5ebe619c",
   "metadata": {},
   "outputs": [],
   "source": [
    "df.createOrReplaceTempView(\"population_table\")"
   ]
  },
  {
   "cell_type": "code",
   "execution_count": 37,
   "id": "cc995e21-e9e4-455c-a8da-353520deacec",
   "metadata": {},
   "outputs": [
    {
     "name": "stdout",
     "output_type": "stream",
     "text": [
      "+----+----+-----------------+----------------+---------+---------------+---------------+---------------+---------------+---------------+---------------+---------------+---------------+----------+-----------------+-----------+---------------------------+\n",
      "|Rank|CCA3|Country/Territory|         Capital|Continent|2022 Population|2020 Population|2015 Population|2010 Population|2000 Population|1990 Population|1980 Population|1970 Population|Area (km²)|Density (per km²)|Growth Rate|World Population Percentage|\n",
      "+----+----+-----------------+----------------+---------+---------------+---------------+---------------+---------------+---------------+---------------+---------------+---------------+----------+-----------------+-----------+---------------------------+\n",
      "|  36| AFG|      Afghanistan|           Kabul|     Asia|       41128771|       38972230|       33753499|       28189672|       19542982|       10694796|       12486631|       10752971|    652230|          63.0587|     1.0257|                       0.52|\n",
      "| 138| ALB|          Albania|          Tirana|   Europe|        2842321|        2866849|        2882481|        2913399|        3182021|        3295066|        2941651|        2324731|     28748|          98.8702|     0.9957|                       0.04|\n",
      "|  34| DZA|          Algeria|         Algiers|   Africa|       44903225|       43451666|       39543154|       35856344|       30774621|       25518074|       18739378|       13795915|   2381741|          18.8531|     1.0164|                       0.56|\n",
      "| 213| ASM|   American Samoa|       Pago Pago|  Oceania|          44273|          46189|          51368|          54849|          58230|          47818|          32886|          27075|       199|         222.4774|     0.9831|                        0.0|\n",
      "| 203| AND|          Andorra|Andorra la Vella|   Europe|          79824|          77700|          71746|          71519|          66097|          53569|          35611|          19860|       468|         170.5641|       1.01|                        0.0|\n",
      "+----+----+-----------------+----------------+---------+---------------+---------------+---------------+---------------+---------------+---------------+---------------+---------------+----------+-----------------+-----------+---------------------------+\n",
      "only showing top 5 rows\n",
      "\n"
     ]
    }
   ],
   "source": [
    "spark.sql(\"SELECT * FROM population_table\").show(5)"
   ]
  },
  {
   "cell_type": "code",
   "execution_count": 43,
   "id": "6eae217e-2cc3-43d6-8c8f-e9714749a7e5",
   "metadata": {},
   "outputs": [
    {
     "name": "stdout",
     "output_type": "stream",
     "text": [
      "+-----------------+--------------+\n",
      "|Country/Territory|sum_population|\n",
      "+-----------------+--------------+\n",
      "|             Chad|      17723315|\n",
      "|         Paraguay|       6780744|\n",
      "|           Russia|     144713314|\n",
      "|            Yemen|      33696614|\n",
      "|          Senegal|      17316449|\n",
      "|           Sweden|      10549347|\n",
      "|         Kiribati|        131232|\n",
      "|           Guyana|        808726|\n",
      "|          Eritrea|       3684032|\n",
      "|           Jersey|        110778|\n",
      "|      Philippines|     115559009|\n",
      "|         Djibouti|       1120849|\n",
      "|            Tonga|        106858|\n",
      "|         Malaysia|      33938221|\n",
      "|        Singapore|       5975689|\n",
      "|             Fiji|        929766|\n",
      "|           Turkey|      85341241|\n",
      "|           Malawi|      20405317|\n",
      "|   Western Sahara|        575986|\n",
      "|             Iraq|      44496122|\n",
      "+-----------------+--------------+\n",
      "only showing top 20 rows\n",
      "\n"
     ]
    }
   ],
   "source": [
    "spark.sql(\"\"\"SELECT \n",
    "                `Country/Territory`,\n",
    "                SUM(`2022 Population`) sum_population\n",
    "          FROM population_table\n",
    "          GROUP BY `Country/Territory`\n",
    "          \"\"\").where(\"sum_population > 100000\").show()"
   ]
  },
  {
   "cell_type": "code",
   "execution_count": 45,
   "id": "7c7562d0-ea0f-4224-aa0f-65de0f04ee97",
   "metadata": {},
   "outputs": [
    {
     "name": "stdout",
     "output_type": "stream",
     "text": [
      "+-----------------+---------------+--------------------+--------------+\n",
      "|Country/Territory|2022 Population| population_increase|new_population|\n",
      "+-----------------+---------------+--------------------+--------------+\n",
      "|            China|     1425887337|1.4258873370000002E8|1.5684760707E9|\n",
      "|            India|     1417173173|       1.417173173E8|1.5588904903E9|\n",
      "|    United States|      338289857|        3.38289857E7| 3.721188427E8|\n",
      "|        Indonesia|      275501339|2.7550133900000002E7| 3.030514729E8|\n",
      "|         Pakistan|      235824862|2.3582486200000003E7| 2.594073482E8|\n",
      "|          Nigeria|      218541212|2.1854121200000003E7| 2.403953332E8|\n",
      "|           Brazil|      215313498|        2.15313498E7| 2.368448478E8|\n",
      "|       Bangladesh|      171186372|        1.71186372E7| 1.883050092E8|\n",
      "|           Russia|      144713314|        1.44713314E7| 1.591846454E8|\n",
      "|           Mexico|      127504125|        1.27504125E7| 1.402545375E8|\n",
      "+-----------------+---------------+--------------------+--------------+\n",
      "only showing top 10 rows\n",
      "\n"
     ]
    }
   ],
   "source": [
    "\n",
    "df.withColumn(\"population_increase\", col(\"2022 Population\") * 0.1)\\\n",
    "    .select(\"Country/Territory\", \"2022 Population\", \"population_increase\")\\\n",
    "    .withColumn(\"new_population\", col(\"2022 Population\") + col(\"population_increase\"))\\\n",
    "    .orderBy(col(\"new_population\").desc())\\\n",
    "    .show(10)"
   ]
  },
  {
   "cell_type": "code",
   "execution_count": 50,
   "id": "793d7aa6-a65e-4745-aea5-b3843091d605",
   "metadata": {},
   "outputs": [],
   "source": [
    "df.write.mode(\"overwrite\").partitionBy(\"Capital\").save(\"work/files/data/population-data/output.csv\")"
   ]
  },
  {
   "cell_type": "code",
   "execution_count": null,
   "id": "aef190f9-abaa-42b3-9c9c-e2df69e48391",
   "metadata": {},
   "outputs": [],
   "source": []
  }
 ],
 "metadata": {
  "kernelspec": {
   "display_name": "Python 3 (ipykernel)",
   "language": "python",
   "name": "python3"
  },
  "language_info": {
   "codemirror_mode": {
    "name": "ipython",
    "version": 3
   },
   "file_extension": ".py",
   "mimetype": "text/x-python",
   "name": "python",
   "nbconvert_exporter": "python",
   "pygments_lexer": "ipython3",
   "version": "3.11.6"
  }
 },
 "nbformat": 4,
 "nbformat_minor": 5
}
